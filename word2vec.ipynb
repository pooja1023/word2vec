{
 "cells": [
  {
   "cell_type": "code",
   "execution_count": 2,
   "metadata": {
    "collapsed": false
   },
   "outputs": [
    {
     "name": "stderr",
     "output_type": "stream",
     "text": [
      "C:\\anaconda\\lib\\site-packages\\gensim\\utils.py:860: UserWarning: detected Windows; aliasing chunkize to chunkize_serial\n",
      "  warnings.warn(\"detected Windows; aliasing chunkize to chunkize_serial\")\n"
     ]
    }
   ],
   "source": [
    "import gensim\n",
    "from nltk.corpus import brown"
   ]
  },
  {
   "cell_type": "code",
   "execution_count": 5,
   "metadata": {
    "collapsed": false
   },
   "outputs": [
    {
     "name": "stdout",
     "output_type": "stream",
     "text": [
      "Brown corpus model saved.\n"
     ]
    }
   ],
   "source": [
    "sentences = brown.sents()\n",
    "model = gensim.models.Word2Vec(sentences, min_count=1)\n",
    "model.save(\"brown_model\")\n",
    "print(\"Brown corpus model saved.\")"
   ]
  },
  {
   "cell_type": "code",
   "execution_count": 7,
   "metadata": {
    "collapsed": false
   },
   "outputs": [
    {
     "name": "stdout",
     "output_type": "stream",
     "text": [
      "[('father', 0.9749484062194824), ('husband', 0.9619787335395813), ('wife', 0.9514495134353638), ('son', 0.931082010269165), ('voice', 0.9245102405548096), ('friend', 0.9172675609588623), ('boy', 0.9159278869628906), ('parents', 0.8962196111679077), ('uncle', 0.8956666588783264), ('smile', 0.894694983959198)]\n"
     ]
    }
   ],
   "source": [
    "model = gensim.models.Word2Vec.load(\"brown_model\")\n",
    "#words most similar to mother\n",
    "print(model.most_similar(\"mother\"))\n"
   ]
  },
  {
   "cell_type": "code",
   "execution_count": 23,
   "metadata": {
    "collapsed": false
   },
   "outputs": [
    {
     "name": "stdout",
     "output_type": "stream",
     "text": [
      "[('friend', 0.9469287395477295), ('smile', 0.9438381195068359)]\n"
     ]
    }
   ],
   "source": [
    "#Finding similar words:\n",
    "print(model.most_similar(positive = ['mother', 'son'], negative = ['father'], topn = 1))"
   ]
  },
  {
   "cell_type": "code",
   "execution_count": null,
   "metadata": {
    "collapsed": true
   },
   "outputs": [],
   "source": []
  },
  {
   "cell_type": "code",
   "execution_count": 27,
   "metadata": {
    "collapsed": false
   },
   "outputs": [
    {
     "name": "stdout",
     "output_type": "stream",
     "text": [
      "0.974948403755\n"
     ]
    }
   ],
   "source": [
    "#Finding similarities between two words:\n",
    "print(model.similarity ('father', 'mother'))"
   ]
  },
  {
   "cell_type": "code",
   "execution_count": null,
   "metadata": {
    "collapsed": true
   },
   "outputs": [],
   "source": []
  },
  {
   "cell_type": "code",
   "execution_count": 22,
   "metadata": {
    "collapsed": false
   },
   "outputs": [
    {
     "name": "stdout",
     "output_type": "stream",
     "text": [
      "[('community', 0.9623249173164368), ('religious', 0.9595239162445068), ('general', 0.9565548896789551), ('political', 0.9518640637397766), ('economic', 0.9491595029830933)]\n"
     ]
    }
   ],
   "source": [
    "#Finding 5 most similar words:\n",
    "print(model.similar_by_word ('human', topn = 5))"
   ]
  },
  {
   "cell_type": "code",
   "execution_count": null,
   "metadata": {
    "collapsed": true
   },
   "outputs": [],
   "source": []
  },
  {
   "cell_type": "code",
   "execution_count": 9,
   "metadata": {
    "collapsed": false
   },
   "outputs": [
    {
     "name": "stdout",
     "output_type": "stream",
     "text": [
      "cereal\n"
     ]
    }
   ],
   "source": [
    "#find the odd one out\n",
    "print(model.doesnt_match(\"breakfast cereal dinner lunch\".split()))"
   ]
  },
  {
   "cell_type": "code",
   "execution_count": 26,
   "metadata": {
    "collapsed": false
   },
   "outputs": [
    {
     "name": "stdout",
     "output_type": "stream",
     "text": [
      "table\n"
     ]
    }
   ],
   "source": [
    "print(model.doesnt_match(\"table dog fox\".split()))\n"
   ]
  },
  {
   "cell_type": "code",
   "execution_count": null,
   "metadata": {
    "collapsed": true
   },
   "outputs": [],
   "source": []
  },
  {
   "cell_type": "code",
   "execution_count": 13,
   "metadata": {
    "collapsed": false
   },
   "outputs": [
    {
     "name": "stdout",
     "output_type": "stream",
     "text": [
      "[-0.03313745 -0.01562928 -0.45104229  0.57891607  0.39154109  0.58626825\n",
      " -0.10076928  0.79624391 -0.00782697 -0.42337111 -0.44314975 -0.24373905\n",
      " -0.25948811 -0.26895091  0.40882188  0.09489209  0.44184276 -0.30227637\n",
      " -0.12561892  0.22369088  0.81213504 -0.09496064 -0.012824   -0.00966829\n",
      "  0.13019498 -0.05478001  0.75571167 -0.25442615  0.01232776 -0.09623414\n",
      "  0.18824619 -0.52519614 -0.21884799  0.93994927  0.06067817 -0.89555562\n",
      "  0.30589208 -0.50274575  0.73092705  0.31407785 -0.2038206  -0.55414361\n",
      " -0.44178963 -0.39963546  0.2175734   0.35011074  0.20848675  0.51147062\n",
      "  0.50803757 -0.19664778  0.33845738 -1.37740242  0.10378911 -0.19719839\n",
      " -1.25392997 -0.70729023  1.29547691 -0.31357834  0.05212063  0.10246424\n",
      " -0.22649817  0.64261514 -0.08659011 -0.66379315 -0.54942662  0.47706878\n",
      " -0.10648689 -0.22032946 -0.93132925  1.26117086  0.71406221  0.72418344\n",
      "  0.7165767  -0.74142587 -0.44076639  0.34092158  0.82182902 -0.69034231\n",
      " -0.09632193  0.87879682  0.93860269  0.30667612 -0.5415054   0.67450416\n",
      " -0.2797426  -0.01928786 -0.37317291 -0.60683739  0.3803471  -0.25247687\n",
      "  0.36683294 -1.10586143 -0.56145924 -0.7957902   1.21202111  0.23263\n",
      "  0.89439505  0.17099783  0.48184347 -0.64630151]\n"
     ]
    }
   ],
   "source": [
    "#vector representation of word human\n",
    "print(model[\"human\"])"
   ]
  },
  {
   "cell_type": "code",
   "execution_count": null,
   "metadata": {
    "collapsed": false
   },
   "outputs": [],
   "source": []
  },
  {
   "cell_type": "code",
   "execution_count": null,
   "metadata": {
    "collapsed": true
   },
   "outputs": [],
   "source": []
  },
  {
   "cell_type": "code",
   "execution_count": null,
   "metadata": {
    "collapsed": true
   },
   "outputs": [],
   "source": []
  },
  {
   "cell_type": "code",
   "execution_count": null,
   "metadata": {
    "collapsed": true
   },
   "outputs": [],
   "source": []
  },
  {
   "cell_type": "code",
   "execution_count": null,
   "metadata": {
    "collapsed": true
   },
   "outputs": [],
   "source": []
  },
  {
   "cell_type": "code",
   "execution_count": null,
   "metadata": {
    "collapsed": true
   },
   "outputs": [],
   "source": []
  },
  {
   "cell_type": "code",
   "execution_count": null,
   "metadata": {
    "collapsed": true
   },
   "outputs": [],
   "source": []
  },
  {
   "cell_type": "code",
   "execution_count": null,
   "metadata": {
    "collapsed": true
   },
   "outputs": [],
   "source": []
  },
  {
   "cell_type": "code",
   "execution_count": null,
   "metadata": {
    "collapsed": true
   },
   "outputs": [],
   "source": []
  },
  {
   "cell_type": "code",
   "execution_count": null,
   "metadata": {
    "collapsed": true
   },
   "outputs": [],
   "source": []
  },
  {
   "cell_type": "code",
   "execution_count": null,
   "metadata": {
    "collapsed": true
   },
   "outputs": [],
   "source": []
  },
  {
   "cell_type": "code",
   "execution_count": null,
   "metadata": {
    "collapsed": true
   },
   "outputs": [],
   "source": []
  },
  {
   "cell_type": "code",
   "execution_count": null,
   "metadata": {
    "collapsed": true
   },
   "outputs": [],
   "source": []
  },
  {
   "cell_type": "code",
   "execution_count": null,
   "metadata": {
    "collapsed": true
   },
   "outputs": [],
   "source": []
  },
  {
   "cell_type": "code",
   "execution_count": null,
   "metadata": {
    "collapsed": true
   },
   "outputs": [],
   "source": []
  },
  {
   "cell_type": "code",
   "execution_count": null,
   "metadata": {
    "collapsed": true
   },
   "outputs": [],
   "source": []
  },
  {
   "cell_type": "code",
   "execution_count": null,
   "metadata": {
    "collapsed": true
   },
   "outputs": [],
   "source": []
  }
 ],
 "metadata": {
  "kernelspec": {
   "display_name": "Python 3",
   "language": "python",
   "name": "python3"
  },
  "language_info": {
   "codemirror_mode": {
    "name": "ipython",
    "version": 3
   },
   "file_extension": ".py",
   "mimetype": "text/x-python",
   "name": "python",
   "nbconvert_exporter": "python",
   "pygments_lexer": "ipython3",
   "version": "3.6.0"
  }
 },
 "nbformat": 4,
 "nbformat_minor": 2
}
